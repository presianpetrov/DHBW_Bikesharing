{
 "cells": [
  {
   "cell_type": "code",
   "execution_count": null,
   "metadata": {},
   "outputs": [],
   "source": [
    "import requests, time, json"
   ]
  },
  {
   "cell_type": "code",
   "execution_count": null,
   "metadata": {},
   "outputs": [],
   "source": [
    "for n in range(0,30):\n",
    "    time.sleep(120)\n",
    "    url = 'https://api.nextbike.net/maps/nextbike-live.json?city=619'\n",
    "    response = requests.get(url)\n",
    "    print(f\"Response status code: {response.status_code}\")\n",
    "    print(f\"Response content: {response.content}\")\n",
    "    if response.status_code == 200:\n",
    "        json_data = response.json()\n",
    "        timestr = time.strftime(\"%Y%m%d-%H%M%S\")\n",
    "        filename = 'json/response'+timestr+'.json' \n",
    "        with open(filename, 'w') as outfile:\n",
    "            json.dump(json_data, outfile)"
   ]
  }
 ],
 "metadata": {
  "language_info": {
   "name": "python"
  }
 },
 "nbformat": 4,
 "nbformat_minor": 2
}
